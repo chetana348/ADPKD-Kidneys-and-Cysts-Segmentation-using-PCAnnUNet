{
 "cells": [
  {
   "cell_type": "code",
   "execution_count": 1,
   "id": "1763f5e3",
   "metadata": {},
   "outputs": [],
   "source": [
    "# Use this code if your input naming convention is general (case0000 format) and 2D. Applicable only for Nifti images\n",
    "\n",
    "import torch\n",
    "import nibabel as nib\n",
    "import os\n",
    "import torch.nn as nn\n",
    "from torch.nn import functional as F\n",
    "from torch.utils.data import Dataset\n",
    "import numpy as np\n",
    "import time\n",
    "from tqdm.auto import tqdm"
   ]
  },
  {
   "cell_type": "code",
   "execution_count": 2,
   "id": "908f8a7d",
   "metadata": {},
   "outputs": [],
   "source": [
    "def make_img_path(cid):\n",
    "    case_id = \"case_{:05d}\".format(cid)\n",
    "    root=os.path.join('./data',case_id)\n",
    "    return os.path.join(root,'imaging.nii.gz')\n",
    "\n",
    "def make_seg_path(cid):\n",
    "    case_id = \"case_{:05d}\".format(cid)\n",
    "    root=os.path.join('./data',case_id)\n",
    "    return os.path.join(root,'segmentation.nii.gz')"
   ]
  },
  {
   "cell_type": "markdown",
   "id": "feda9426",
   "metadata": {},
   "source": [
    "# case 0~ case 159 Train set, case 161~case209 Test set\n",
    "\n",
    "# Since only case 160's image size is not 512X512, I discard case 160"
    
   ]
  },
  {
   "cell_type": "code",
   "execution_count": 3,
   "id": "df50578c",
   "metadata": {},
   "outputs": [],
   "source": [
    "if not os.path.exists('./data_npy'):\n",
    "    os.mkdir('./data_npy')\n",
    "if not os.path.exists('./data_npy/train'):\n",
    "    os.mkdir('./data_npy/train')\n",
    "if not os.path.exists('./data_npy/valid'):\n",
    "    os.mkdir('./data_npy/valid')\n"
   ]
  },
  {
   "cell_type": "code",
   "execution_count": 5,
   "id": "efa0e339",
   "metadata": {},
   "outputs": [
    {
     "data": {
      "application/vnd.jupyter.widget-view+json": {
       "model_id": "8ecf133b66174288a3b336e79ce29af1",
       "version_major": 2,
       "version_minor": 0
      },
      "text/plain": [
       "  0%|          | 0/160 [00:00<?, ?it/s]"
      ]
     },
     "metadata": {},
     "output_type": "display_data"
    },
    {
     "ename": "FileNotFoundError",
     "evalue": "No such file or no access: './data\\case_00003\\imaging.nii.gz'",
     "output_type": "error",
     "traceback": [
      "\u001b[1;31m---------------------------------------------------------------------------\u001b[0m",
      "\u001b[1;31mFileNotFoundError\u001b[0m                         Traceback (most recent call last)",
      "File \u001b[1;32m~\\anaconda3\\lib\\site-packages\\nibabel\\loadsave.py:90\u001b[0m, in \u001b[0;36mload\u001b[1;34m(filename, **kwargs)\u001b[0m\n\u001b[0;32m     89\u001b[0m \u001b[38;5;28;01mtry\u001b[39;00m:\n\u001b[1;32m---> 90\u001b[0m     stat_result \u001b[38;5;241m=\u001b[39m \u001b[43mos\u001b[49m\u001b[38;5;241;43m.\u001b[39;49m\u001b[43mstat\u001b[49m\u001b[43m(\u001b[49m\u001b[43mfilename\u001b[49m\u001b[43m)\u001b[49m\n\u001b[0;32m     91\u001b[0m \u001b[38;5;28;01mexcept\u001b[39;00m \u001b[38;5;167;01mOSError\u001b[39;00m:\n",
      "\u001b[1;31mFileNotFoundError\u001b[0m: [WinError 3] The system cannot find the path specified: './data\\\\case_00003\\\\imaging.nii.gz'",
      "\nDuring handling of the above exception, another exception occurred:\n",
      "\u001b[1;31mFileNotFoundError\u001b[0m                         Traceback (most recent call last)",
      "Input \u001b[1;32mIn [5]\u001b[0m, in \u001b[0;36m<cell line: 6>\u001b[1;34m()\u001b[0m\n\u001b[0;32m      4\u001b[0m     os\u001b[38;5;241m.\u001b[39mmkdir(root)\n\u001b[0;32m      6\u001b[0m \u001b[38;5;28;01mfor\u001b[39;00m i \u001b[38;5;129;01min\u001b[39;00m tqdm(\u001b[38;5;28mrange\u001b[39m(\u001b[38;5;241m160\u001b[39m)):\n\u001b[1;32m----> 7\u001b[0m     img\u001b[38;5;241m=\u001b[39m\u001b[43mnib\u001b[49m\u001b[38;5;241;43m.\u001b[39;49m\u001b[43mload\u001b[49m\u001b[43m(\u001b[49m\u001b[43mmake_img_path\u001b[49m\u001b[43m(\u001b[49m\u001b[43mi\u001b[49m\u001b[43m)\u001b[49m\u001b[43m)\u001b[49m\u001b[38;5;241m.\u001b[39mget_fdata()\n\u001b[0;32m      8\u001b[0m     img\u001b[38;5;241m=\u001b[39m(img\u001b[38;5;241m-\u001b[39mimg\u001b[38;5;241m.\u001b[39mmin())\u001b[38;5;241m/\u001b[39m(\u001b[38;5;28mmax\u001b[39m((img\u001b[38;5;241m.\u001b[39mmax()\u001b[38;5;241m-\u001b[39mimg\u001b[38;5;241m.\u001b[39mmin()),\u001b[38;5;241m1e-3\u001b[39m))\n\u001b[0;32m     10\u001b[0m     \u001b[38;5;28;01mfor\u001b[39;00m j \u001b[38;5;129;01min\u001b[39;00m \u001b[38;5;28mrange\u001b[39m(\u001b[38;5;28mlen\u001b[39m(img)):\n",
      "File \u001b[1;32m~\\anaconda3\\lib\\site-packages\\nibabel\\loadsave.py:92\u001b[0m, in \u001b[0;36mload\u001b[1;34m(filename, **kwargs)\u001b[0m\n\u001b[0;32m     90\u001b[0m     stat_result \u001b[38;5;241m=\u001b[39m os\u001b[38;5;241m.\u001b[39mstat(filename)\n\u001b[0;32m     91\u001b[0m \u001b[38;5;28;01mexcept\u001b[39;00m \u001b[38;5;167;01mOSError\u001b[39;00m:\n\u001b[1;32m---> 92\u001b[0m     \u001b[38;5;28;01mraise\u001b[39;00m \u001b[38;5;167;01mFileNotFoundError\u001b[39;00m(\u001b[38;5;124mf\u001b[39m\u001b[38;5;124m\"\u001b[39m\u001b[38;5;124mNo such file or no access: \u001b[39m\u001b[38;5;124m'\u001b[39m\u001b[38;5;132;01m{\u001b[39;00mfilename\u001b[38;5;132;01m}\u001b[39;00m\u001b[38;5;124m'\u001b[39m\u001b[38;5;124m\"\u001b[39m)\n\u001b[0;32m     93\u001b[0m \u001b[38;5;28;01mif\u001b[39;00m stat_result\u001b[38;5;241m.\u001b[39mst_size \u001b[38;5;241m<\u001b[39m\u001b[38;5;241m=\u001b[39m \u001b[38;5;241m0\u001b[39m:\n\u001b[0;32m     94\u001b[0m     \u001b[38;5;28;01mraise\u001b[39;00m ImageFileError(\u001b[38;5;124mf\u001b[39m\u001b[38;5;124m\"\u001b[39m\u001b[38;5;124mEmpty file: \u001b[39m\u001b[38;5;124m'\u001b[39m\u001b[38;5;132;01m{\u001b[39;00mfilename\u001b[38;5;132;01m}\u001b[39;00m\u001b[38;5;124m'\u001b[39m\u001b[38;5;124m\"\u001b[39m)\n",
      "\u001b[1;31mFileNotFoundError\u001b[0m: No such file or no access: './data\\case_00003\\imaging.nii.gz'"
     ]
    }
   ],
   "source": [
    "count=0\n",
    "root=os.path.join('.','data_npy','train','image')\n",
    "if not os.path.exists(root):\n",
    "    os.mkdir(root)\n",
    "    \n",
    "for i in tqdm(range(160)):\n",
    "    img=nib.load(make_img_path(i)).get_fdata()\n",
    "    img=(img-img.min())/(max((img.max()-img.min()),1e-3))\n",
    "    \n",
    "    for j in range(len(img)):\n",
    "        path=os.path.join(root,'{:05d}'.format(j+count))\n",
    "        np.save(path,img[j:j+1].astype(np.float32))\n",
    "    count+=len(img)\n"
   ]
  },
  {
   "cell_type": "code",
   "execution_count": 7,
   "id": "c58ccfe4",
   "metadata": {},
   "outputs": [
    {
     "data": {
      "text/plain": [
       "(1, 512, 512)"
      ]
     },
     "execution_count": 7,
     "metadata": {},
     "output_type": "execute_result"
    }
   ],
   "source": [
    "im=np.load(r'C:\\Users\\cheta\\Downloads\\KiTS19-Challenge-using-U-net-master\\data_npy\\train\\image\\00000.npy')\n",
    "im.shape"
   ]
  },
  {
   "cell_type": "code",
   "execution_count": 6,
   "id": "7ba3f886",
   "metadata": {},
   "outputs": [
    {
     "data": {
      "application/vnd.jupyter.widget-view+json": {
       "model_id": "b7aabe6053e5416b9f87bbbc9776b347",
       "version_major": 2,
       "version_minor": 0
      },
      "text/plain": [
       "  0%|          | 0/160 [00:00<?, ?it/s]"
      ]
     },
     "metadata": {},
     "output_type": "display_data"
    }
   ],
   "source": [
    "count=0\n",
    "root=os.path.join('.','data_npy','train','segmentation')\n",
    "if not os.path.exists(root):\n",
    "    os.mkdir(root)\n",
    "    \n",
    "for i in tqdm(range(160)):\n",
    "    seg=nib.load(make_seg_path(i)).get_fdata()\n",
    "    seg_no_cancer=np.where(seg>0,1,0).astype(np.uint8)\n",
    "    \n",
    "    for j in range(len(seg_no_cancer)):\n",
    "        path=os.path.join(root,'{:05d}'.format(j+count))\n",
    "        seg_1ch=torch.tensor(seg_no_cancer[j:j+1],dtype=torch.int64)\n",
    "        seg_2ch=F.one_hot(seg_1ch,num_classes=2)\n",
    "        seg_2ch=torch.squeeze(seg_2ch.permute(3,0,1,2))\n",
    "        seg_2ch=np.array(seg_2ch,dtype=np.uint8)\n",
    "        np.save(path,seg_2ch)\n",
    "    count+=len(seg_no_cancer)"
   ]
  },
  {
   "cell_type": "code",
   "execution_count": 7,
   "id": "039b4086",
   "metadata": {},
   "outputs": [
    {
     "data": {
      "application/vnd.jupyter.widget-view+json": {
       "model_id": "3959f2670e1148c3a44746a30092fcfc",
       "version_major": 2,
       "version_minor": 0
      },
      "text/plain": [
       "  0%|          | 0/49 [00:00<?, ?it/s]"
      ]
     },
     "metadata": {},
     "output_type": "display_data"
    }
   ],
   "source": [
    "count=0\n",
    "root=os.path.join('.','data_npy','valid','image')\n",
    "if not os.path.exists(root):\n",
    "    os.mkdir(root)\n",
    "    \n",
    "for i in tqdm(range(161,210)):\n",
    "    img=nib.load(make_img_path(i)).get_fdata()\n",
    "    img=(img-img.min())/(max((img.max()-img.min()),1e-3))\n",
    "    \n",
    "    for j in range(len(img)):\n",
    "        path=os.path.join(root,'{:05d}'.format(j+count))\n",
    "        np.save(path,img[j:j+1].astype(np.float32))\n",
    "    count+=len(img)"
   ]
  },
  {
   "cell_type": "code",
   "execution_count": 8,
   "id": "ef76067c",
   "metadata": {},
   "outputs": [
    {
     "data": {
      "application/vnd.jupyter.widget-view+json": {
       "model_id": "b9715d87c02747a39042bd3b64bbed7c",
       "version_major": 2,
       "version_minor": 0
      },
      "text/plain": [
       "  0%|          | 0/49 [00:00<?, ?it/s]"
      ]
     },
     "metadata": {},
     "output_type": "display_data"
    }
   ],
   "source": [
    "count=0\n",
    "root=os.path.join('.','data_npy','valid','segmentation')\n",
    "if not os.path.exists(root):\n",
    "    os.mkdir(root)\n",
    "    \n",
    "for i in tqdm(range(161,210)):\n",
    "    seg=nib.load(make_seg_path(i)).get_fdata()\n",
    "    seg_no_cancer=np.where(seg>0,1,0).astype(np.uint8)\n",
    "    \n",
    "    for j in range(len(seg_no_cancer)):\n",
    "        path=os.path.join(root,'{:05d}'.format(j+count))\n",
    "        seg_1ch=torch.tensor(seg_no_cancer[j:j+1],dtype=torch.int64)\n",
    "        seg_2ch=F.one_hot(seg_1ch,num_classes=2)\n",
    "        seg_2ch=torch.squeeze(seg_2ch.permute(3,0,1,2))\n",
    "        seg_2ch=np.array(seg_2ch,dtype=np.uint8)\n",
    "        np.save(path,seg_2ch)\n",
    "    count+=len(seg_no_cancer)"
   ]
  },
  {
   "cell_type": "code",
   "execution_count": null,
   "id": "af81564a",
   "metadata": {},
   "outputs": [],
   "source": []
  }
 ],
 "metadata": {
  "kernelspec": {
   "display_name": "Python 3 (ipykernel)",
   "language": "python",
   "name": "python3"
  },
  "language_info": {
   "codemirror_mode": {
    "name": "ipython",
    "version": 3
   },
   "file_extension": ".py",
   "mimetype": "text/x-python",
   "name": "python",
   "nbconvert_exporter": "python",
   "pygments_lexer": "ipython3",
   "version": "3.9.13"
  }
 },
 "nbformat": 4,
 "nbformat_minor": 5
}
